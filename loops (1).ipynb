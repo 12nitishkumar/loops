{
 "cells": [
  {
   "cell_type": "markdown",
   "id": "44cfd0ab-d0f8-4664-98b4-2392e2577242",
   "metadata": {},
   "source": [
    "\"Oops\" stands for Object-Oriented Programming System"
   ]
  },
  {
   "cell_type": "code",
   "execution_count": 1,
   "id": "619c81cc-2fb2-4afa-a468-6336208376d9",
   "metadata": {},
   "outputs": [],
   "source": [
    "a = 1"
   ]
  },
  {
   "cell_type": "code",
   "execution_count": 2,
   "id": "60e0cbbc-2ffb-42f4-b457-33972a3cc5fc",
   "metadata": {},
   "outputs": [
    {
     "name": "stdout",
     "output_type": "stream",
     "text": [
      "<class 'int'>\n"
     ]
    }
   ],
   "source": [
    "print(type(a)) "
   ]
  },
  {
   "cell_type": "code",
   "execution_count": 3,
   "id": "2736927e-12c9-4bbb-afd2-7fa71c58e01d",
   "metadata": {},
   "outputs": [
    {
     "name": "stdout",
     "output_type": "stream",
     "text": [
      "<class 'str'>\n"
     ]
    }
   ],
   "source": [
    "print(type(\"pwskills\"))"
   ]
  },
  {
   "cell_type": "code",
   "execution_count": 5,
   "id": "51d41c6b-0f1a-4008-a9be-a1cb717843bf",
   "metadata": {},
   "outputs": [],
   "source": [
    "l = [2,3,4,5,8]"
   ]
  },
  {
   "cell_type": "code",
   "execution_count": 6,
   "id": "a9823e9c-a078-4844-9b34-3e6a8968b28a",
   "metadata": {},
   "outputs": [
    {
     "name": "stdout",
     "output_type": "stream",
     "text": [
      "<class 'list'>\n"
     ]
    }
   ],
   "source": [
    "print(type(l))"
   ]
  },
  {
   "cell_type": "code",
   "execution_count": 8,
   "id": "9cd8bb8d-70ea-406a-ab50-d05ec9f7d4d3",
   "metadata": {},
   "outputs": [],
   "source": [
    "class test :\n",
    "    pass\n",
    "    "
   ]
  },
  {
   "cell_type": "code",
   "execution_count": 9,
   "id": "c072fe25-daba-4c63-bf3e-d608d9f118f9",
   "metadata": {},
   "outputs": [],
   "source": [
    "a = test()"
   ]
  },
  {
   "cell_type": "code",
   "execution_count": 10,
   "id": "7991a72b-9682-40d5-9cc5-e0838f9ea173",
   "metadata": {},
   "outputs": [
    {
     "data": {
      "text/plain": [
       "__main__.test"
      ]
     },
     "execution_count": 10,
     "metadata": {},
     "output_type": "execute_result"
    }
   ],
   "source": [
    "type(a)"
   ]
  },
  {
   "cell_type": "code",
   "execution_count": 11,
   "id": "a317add8-042a-4a30-b09f-570424f8d048",
   "metadata": {},
   "outputs": [
    {
     "name": "stdout",
     "output_type": "stream",
     "text": [
      "<class '__main__.test'>\n"
     ]
    }
   ],
   "source": [
    "print(type(a))"
   ]
  },
  {
   "cell_type": "code",
   "execution_count": 16,
   "id": "a18ad7c3-f925-4006-b506-e127507153ee",
   "metadata": {},
   "outputs": [],
   "source": [
    "class pwskills :\n",
    "    \n",
    "    def welcome_msg(self):\n",
    "        print(\"welcome to pwskills\")\n",
    "    \n",
    "    "
   ]
  },
  {
   "cell_type": "code",
   "execution_count": 17,
   "id": "6a1f7ca7-3ebf-4b74-a0cb-98f7688f3425",
   "metadata": {},
   "outputs": [],
   "source": [
    "rohan = pwskills()"
   ]
  },
  {
   "cell_type": "code",
   "execution_count": 18,
   "id": "4b1d7227-8881-4af9-ab47-dda41d9b9826",
   "metadata": {},
   "outputs": [
    {
     "name": "stdout",
     "output_type": "stream",
     "text": [
      "<class '__main__.pwskills'>\n"
     ]
    }
   ],
   "source": [
    "print(type(rohan))"
   ]
  },
  {
   "cell_type": "code",
   "execution_count": 19,
   "id": "e9e6815f-a5c8-4c9f-a5c0-a8f8baf3b150",
   "metadata": {},
   "outputs": [
    {
     "name": "stdout",
     "output_type": "stream",
     "text": [
      "welcome to pwskills\n"
     ]
    }
   ],
   "source": [
    "rohan.welcome_msg()"
   ]
  },
  {
   "cell_type": "code",
   "execution_count": 20,
   "id": "8b631f90-cc4b-4039-8de9-cd71e356580b",
   "metadata": {},
   "outputs": [],
   "source": [
    "gaurav = pwskills()"
   ]
  },
  {
   "cell_type": "code",
   "execution_count": 21,
   "id": "f7e98944-0852-41a6-9176-b64c0c8dc401",
   "metadata": {},
   "outputs": [
    {
     "name": "stdout",
     "output_type": "stream",
     "text": [
      "welcome to pwskills\n"
     ]
    }
   ],
   "source": [
    "gaurav.welcome_msg()"
   ]
  },
  {
   "cell_type": "code",
   "execution_count": 47,
   "id": "0f35c792-8e11-4e0e-98dc-3a8a7ab476c4",
   "metadata": {},
   "outputs": [],
   "source": [
    "class pwskills1 :\n",
    "    \n",
    "    def __init__(self,phone_number,email_id,student_id):\n",
    "        self.phone_number = phone_number\n",
    "        self.email_id = email_id\n",
    "        self.student_id = student_id\n",
    "        \n",
    "    def return_student_deetials(self):\n",
    "        return self.student_id,self.phone_number,self.email_id\n",
    "    "
   ]
  },
  {
   "cell_type": "code",
   "execution_count": 48,
   "id": "e7425c41-3fe5-4bca-bf8f-746b59d1f6c4",
   "metadata": {},
   "outputs": [],
   "source": [
    "rohan = pwskills1(122222234565544,\"rphan@gmail.com\",101)"
   ]
  },
  {
   "cell_type": "code",
   "execution_count": 49,
   "id": "6a265fa6-c6c0-4eec-a28f-a139a5e4d8d5",
   "metadata": {},
   "outputs": [
    {
     "data": {
      "text/plain": [
       "(101, 122222234565544, 'rphan@gmail.com')"
      ]
     },
     "execution_count": 49,
     "metadata": {},
     "output_type": "execute_result"
    }
   ],
   "source": [
    "rohan.return_student_deetials()"
   ]
  },
  {
   "cell_type": "code",
   "execution_count": 54,
   "id": "e5a1368a-7005-4ed2-872e-700d444d557c",
   "metadata": {},
   "outputs": [
    {
     "data": {
      "text/plain": [
       "122222234565544"
      ]
     },
     "execution_count": 54,
     "metadata": {},
     "output_type": "execute_result"
    }
   ],
   "source": [
    "rohan.phone_number"
   ]
  },
  {
   "cell_type": "code",
   "execution_count": 55,
   "id": "5a39779d-ca17-4f56-8e27-45e00b2e09b6",
   "metadata": {},
   "outputs": [
    {
     "data": {
      "text/plain": [
       "'rphan@gmail.com'"
      ]
     },
     "execution_count": 55,
     "metadata": {},
     "output_type": "execute_result"
    }
   ],
   "source": [
    "rohan.email_id"
   ]
  },
  {
   "cell_type": "code",
   "execution_count": 50,
   "id": "6a1bd4a9-7745-490a-bb31-3c0277e8c326",
   "metadata": {},
   "outputs": [],
   "source": [
    "gaurav = pwskills1(6202566123,\"gaurav@gmail.com\",101)"
   ]
  },
  {
   "cell_type": "code",
   "execution_count": 51,
   "id": "76b25726-8b17-4737-84f9-1b30039dd3db",
   "metadata": {},
   "outputs": [
    {
     "data": {
      "text/plain": [
       "(101, 6202566123, 'gaurav@gmail.com')"
      ]
     },
     "execution_count": 51,
     "metadata": {},
     "output_type": "execute_result"
    }
   ],
   "source": [
    "gaurav.return_student_deetials()"
   ]
  },
  {
   "cell_type": "code",
   "execution_count": 62,
   "id": "2a1b3f82-55d1-4947-af6b-a4adb4076a85",
   "metadata": {},
   "outputs": [],
   "source": [
    "class pwskills2 :\n",
    "    \n",
    "    def __init__(self,phone_number,email_id,student_id):\n",
    "        self.phone_number1 = phone_number\n",
    "        self.email_id1 = email_id\n",
    "        self.student_id1 = student_id\n",
    "        \n",
    "    def return_student_deetials(self):\n",
    "        return self.student_id1,self.phone_number1,self.email_id1\n",
    "    "
   ]
  },
  {
   "cell_type": "code",
   "execution_count": 63,
   "id": "55b35bd1-a09e-4fa0-8e4a-cb926057f64d",
   "metadata": {},
   "outputs": [],
   "source": [
    "sudh = pwskills2(6202566123,\"sudh@gmail.com\",102)"
   ]
  },
  {
   "cell_type": "code",
   "execution_count": 64,
   "id": "8e107905-6033-4239-87fc-b17d6e56462f",
   "metadata": {},
   "outputs": [
    {
     "data": {
      "text/plain": [
       "6202566123"
      ]
     },
     "execution_count": 64,
     "metadata": {},
     "output_type": "execute_result"
    }
   ],
   "source": [
    "sudh.phone_number1"
   ]
  },
  {
   "cell_type": "code",
   "execution_count": 65,
   "id": "925cbdd4-a08e-4e6e-9bde-5c1a7b1d7381",
   "metadata": {},
   "outputs": [
    {
     "data": {
      "text/plain": [
       "'sudh@gmail.com'"
      ]
     },
     "execution_count": 65,
     "metadata": {},
     "output_type": "execute_result"
    }
   ],
   "source": [
    "sudh.email_id1"
   ]
  },
  {
   "cell_type": "code",
   "execution_count": 67,
   "id": "5a69f2c5-1f3f-469e-9266-798cb899041b",
   "metadata": {},
   "outputs": [
    {
     "data": {
      "text/plain": [
       "(102, 6202566123, 'sudh@gmail.com')"
      ]
     },
     "execution_count": 67,
     "metadata": {},
     "output_type": "execute_result"
    }
   ],
   "source": [
    "sudh.return_student_deetials()"
   ]
  },
  {
   "cell_type": "code",
   "execution_count": 68,
   "id": "4e021bc1-0b5a-4c8c-a848-80019831024a",
   "metadata": {},
   "outputs": [],
   "source": [
    "class pwskills2 :\n",
    "    \n",
    "    def __init__(sudh,phone_number,email_id,student_id):\n",
    "        sudh.phone_number1 = phone_number\n",
    "        sudh.email_id1 = email_id\n",
    "        sudh.student_id1 = student_id\n",
    "        \n",
    "    def return_student_deetials(sudh):\n",
    "        return sush.student_id1,sush.phone_number1,sudh.email_id1\n",
    "    "
   ]
  },
  {
   "cell_type": "code",
   "execution_count": 69,
   "id": "d9910abc-c74c-46bb-8bfe-ea7c7bb74253",
   "metadata": {},
   "outputs": [],
   "source": [
    "rohan = pwskills2(7091528412,\"rohan@gmail.com\",20057)"
   ]
  },
  {
   "cell_type": "code",
   "execution_count": 70,
   "id": "bca74fd1-f938-4935-8d46-15fb05560d5e",
   "metadata": {},
   "outputs": [
    {
     "data": {
      "text/plain": [
       "7091528412"
      ]
     },
     "execution_count": 70,
     "metadata": {},
     "output_type": "execute_result"
    }
   ],
   "source": [
    "rohan.phone_number1"
   ]
  },
  {
   "cell_type": "code",
   "execution_count": 71,
   "id": "47ee3b24-6686-458f-b9bf-6609413d5389",
   "metadata": {},
   "outputs": [
    {
     "data": {
      "text/plain": [
       "20057"
      ]
     },
     "execution_count": 71,
     "metadata": {},
     "output_type": "execute_result"
    }
   ],
   "source": [
    "rohan.student_id1"
   ]
  },
  {
   "cell_type": "code",
   "execution_count": null,
   "id": "cf156e23-5499-4366-96a9-8b6dbf5b6d90",
   "metadata": {},
   "outputs": [],
   "source": [
    "rohan."
   ]
  }
 ],
 "metadata": {
  "kernelspec": {
   "display_name": "Python 3 (ipykernel)",
   "language": "python",
   "name": "python3"
  },
  "language_info": {
   "codemirror_mode": {
    "name": "ipython",
    "version": 3
   },
   "file_extension": ".py",
   "mimetype": "text/x-python",
   "name": "python",
   "nbconvert_exporter": "python",
   "pygments_lexer": "ipython3",
   "version": "3.10.8"
  }
 },
 "nbformat": 4,
 "nbformat_minor": 5
}
